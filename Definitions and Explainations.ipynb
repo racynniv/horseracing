{
 "cells": [
  {
   "cell_type": "markdown",
   "id": "591b5904",
   "metadata": {},
   "source": [
    "# Course Types and Expectations\n",
    "List of types - Hurdle, Dirt, Outer Turf, Inner Turf, Turf.\n",
    "\n",
    "* Hurdle: A race with a minimum of 8 hurdles and a distance of 2 miles or more\n",
    "* Dirt: True dirt racing. Hard for horses and racers. Lots of dirt flung in the air, loss of vision, hard on horse joints. Creates the need for distance to see\n",
    "* Turf: True natural grass. Faster and allows for more bunching/drafting. Rain becomes a real issue here and grass does cost more energy in the long term\n",
    "* Inner Turf: Specific to saratoga. It is a bit shorter and has more turns which advantages agile horses. Having the inside track, correct positioning, and timing turns correctly can give a large advantage\n",
    "* Outer Turf: Specific to saratoga. Similar to regular turf\n"
   ]
  },
  {
   "cell_type": "markdown",
   "id": "aff421a1",
   "metadata": {},
   "source": [
    "# Race Type\n",
    "**This is how the purse is given out I believe**\n",
    "\n",
    "List of types - Stakes, Waiver Claiming, Waiver Maiden Claiming, Starter Stakes, Starter Handicap, Claiming, Starter Allowance, Allowance Optionl Claimer, Starter Optional Claimer, Maiden Claiming, Allowance, Maiden Special Weight.\n",
    "\n",
    "* Stakes: Races are classified as STAKES races when the meet two basic criteria, 1) They have money added to the base purse of the race in the form of nomination, entry and or starter fees paid by owners; 2) Nominations for a STAKES race must close at least 72 hours prior to its running. Stakes races can be under allowance conditions (weight off allowed based upon number of wins or money won); handicap conditions (Racing Secretary or Handicapper assigns weight based upon past performances with the goal of giving each horse an equal chance to win the race) or weight for age conditions, (each horse carries equal weights based upon their age and sex). \n",
    "* Claiming: Claiming races are the most commonly run races in the country. Horses competing in claiming races are offered for sale for a specified priced to eligible buyers.\n",
    "* Waiver Claiming: A claiming race in which one or more horses may be declared ineligible to be claimed by the owner per state regulations. \n",
    "* Waiver Maiden Claiming: A maiden claiming race in which one or more horses may be declared ineligible to be claimed by the owner per state regulations.\n",
    "* Starter Stakes: A stake race where there is no claim due to the recency of the past claim\n",
    "* Starter Handicap: This category is reserved for horses that have been running in inferior claiming company, but have improved to the point that they would not be risked being sold in a claiming race. In effect this race is an allowance race restricted to horses that have previously run in a claiming race at a specific level (e.g. starters for a claiming price of 5,000). In a starter handicap race, horses are weighted similar to a handicap race. \n",
    "* Starter Allowance: Starter allowance races are identical to starter handicap races with the only difference that horses competing in this race are weighted through allowance conditions (i.e. number of races or money won). \n",
    "* Allowance Optional Claimer: ?\n",
    "* Starter Optional Claimer: This race type is quite involved and incorporates features of starter allowance and claiming races. Horses competing in this type of race can either compete as a claimer, or as a starter allowance horse, with no claiming price. Those competing in this race that are not eligible to be claimed must have competed at or below the claiming level specified, and have not won a race at the specified claiming or higher since last competing at the specified claiming level or a lower claiming price.\n",
    "* Maiden Claiming: Maiden claiming races are for horses that have never won a race and are eligible to be claimed. \n",
    "* Allowance: Weighting by sets of conditions\n",
    "* Maiden Special Weight: These races are reserved for horses that have never won a race. They are not eligible to be claimed. The term special weight is derived from the fact that arbitrary weights are assigned to horses by age. (e.g. 3 year olds 118 pounds, older 122 pounds.) "
   ]
  },
  {
   "cell_type": "markdown",
   "id": "a599ef02",
   "metadata": {},
   "source": [
    "# Track Condition\n",
    "\n",
    "https://www.equibase.com/newfan/workouts.cfm\n",
    "\n",
    "Turft List - Yielding, Firm, Good, Soft\n",
    "Dirt List - Sloppy, Good, Fast, \n",
    "\n",
    "\n",
    "### Turf\n",
    "* Yielding: Usually following some wet weather; horses' hooves dig up the course and divots are flying; times are slower\n",
    "* Firm: Equivalent to Fast on Dirt Track; course is dry and at peak efficiency.\n",
    "* Good: The drying process continues, times improve and the track is approaching a FIRM condition. Fewer divots may be evident. \n",
    "* Soft: Usually following prolonged wet weather; horses' hooves sink in and dig up the course; times are considerably slower. \n",
    "\n",
    "### Dirt\n",
    "* Sloppy: As the track continues to accumulate moisture, the base is still solid but water is beginning to seep into the base; SURFACE WATER IS EVIDENT. A superscripted S beside a sloppy track indicates the track has been sealed. \n",
    "* Good: The drying process continues, times improve and the track is approaching a FAST condition. Some flying dust may be evident. \n",
    "* Fast: Completely dry and at optimal efficiency. \n",
    "* Muddy: Moisture has permeated the base of the track; times are somewhat slower and running tires the horses more.\n"
   ]
  },
  {
   "cell_type": "markdown",
   "id": "781faa8a",
   "metadata": {},
   "source": [
    "# Run Up\n",
    "\n",
    "https://timeformusblog.com/2013/12/17/run-up-and-its-effect-on-final-time/\n",
    "\n",
    "Distance from the gates to the start of the race (crossing the line). Once the first horse crosses the line, the official race distance starts and the race has begun. Therefore, each horse runs the official distance plus the run up. Time starts when the first horse crosses the start line, time ends when the first horse (not necessarily the same horse) crosses the finish line. This means that the horse that completes the actual distance from start line to end line fastest may not win, but instead the horse that finishes first does. Therefore, the fastest horse may not win if they get a bad start and pass the start line farther back."
   ]
  }
 ],
 "metadata": {
  "kernelspec": {
   "display_name": "Python 3 (ipykernel)",
   "language": "python",
   "name": "python3"
  },
  "language_info": {
   "codemirror_mode": {
    "name": "ipython",
    "version": 3
   },
   "file_extension": ".py",
   "mimetype": "text/x-python",
   "name": "python",
   "nbconvert_exporter": "python",
   "pygments_lexer": "ipython3",
   "version": "3.10.4"
  }
 },
 "nbformat": 4,
 "nbformat_minor": 5
}
